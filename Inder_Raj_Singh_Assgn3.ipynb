{
 "cells": [
  {
   "attachments": {},
   "cell_type": "markdown",
   "metadata": {},
   "source": [
    "# Q1"
   ]
  },
  {
   "cell_type": "code",
   "execution_count": 1,
   "metadata": {
    "vscode": {
     "languageId": "r"
    }
   },
   "outputs": [
    {
     "name": "stdout",
     "output_type": "stream",
     "text": [
      "[1] \"Proability of getting 14 puriens in 22 length RNA with p=0.7 is\"\n"
     ]
    },
    {
     "data": {
      "text/html": [
       "0.142291944694431"
      ],
      "text/latex": [
       "0.142291944694431"
      ],
      "text/markdown": [
       "0.142291944694431"
      ],
      "text/plain": [
       "[1] 0.1422919"
      ]
     },
     "metadata": {},
     "output_type": "display_data"
    },
    {
     "name": "stdout",
     "output_type": "stream",
     "text": [
      "[1] \"Proability of getting atmost 14 puriens in 22 length RNA with p=0.7 is\"\n"
     ]
    },
    {
     "data": {
      "text/html": [
       "0.32874932349044"
      ],
      "text/latex": [
       "0.32874932349044"
      ],
      "text/markdown": [
       "0.32874932349044"
      ],
      "text/plain": [
       "[1] 0.3287493"
      ]
     },
     "metadata": {},
     "output_type": "display_data"
    },
    {
     "name": "stdout",
     "output_type": "stream",
     "text": [
      "[1] \"Proability of getting atleast 10 puriens in 22 length RNA with p=0.7 is\"\n"
     ]
    },
    {
     "data": {
      "text/html": [
       "0.995672287670368"
      ],
      "text/latex": [
       "0.995672287670368"
      ],
      "text/markdown": [
       "0.995672287670368"
      ],
      "text/plain": [
       "[1] 0.9956723"
      ]
     },
     "metadata": {},
     "output_type": "display_data"
    }
   ],
   "source": [
    "print(\"Proability of getting 14 puriens in 22 length RNA with p=0.7 is\")\n",
    "dbinom(14,22,0.7)\n",
    "print(\"Proability of getting atmost 14 puriens in 22 length RNA with p=0.7 is\")\n",
    "pbinom(14,22,0.7)\n",
    "print(\"Proability of getting atleast 10 puriens in 22 length RNA with p=0.7 is\")\n",
    "1-pbinom(9,22,0.7)"
   ]
  },
  {
   "attachments": {},
   "cell_type": "markdown",
   "metadata": {},
   "source": [
    "# Q2"
   ]
  },
  {
   "cell_type": "code",
   "execution_count": 2,
   "metadata": {
    "vscode": {
     "languageId": "r"
    }
   },
   "outputs": [
    {
     "data": {
      "image/png": "[encoded data removed]",
      "text/plain": [
       "Plot with title “geneB”"
      ]
     },
     "metadata": {
      "image/png": {
       "height": 420,
       "width": 420
      }
     },
     "output_type": "display_data"
    },
    {
     "data": {
      "image/png": "[encoded data removed]",
      "text/plain": [
       "Plot with title “geneC”"
      ]
     },
     "metadata": {
      "image/png": {
       "height": 420,
       "width": 420
      }
     },
     "output_type": "display_data"
    }
   ],
   "source": [
    "df<-read.csv('./normal_skewed_distr.csv')\n",
    "col<-c('geneB','geneC')\n",
    "for (i in col){\n",
    "    hist(df[[i]],main=i)\n",
    "}"
   ]
  },
  {
   "cell_type": "code",
   "execution_count": 3,
   "metadata": {
    "vscode": {
     "languageId": "r"
    }
   },
   "outputs": [
    {
     "name": "stdout",
     "output_type": "stream",
     "text": [
      "[1] \"geneB\"\n",
      "\n",
      "\tShapiro-Wilk normality test\n",
      "\n",
      "data:  df[[i]]\n",
      "W = 0.90242, p-value < 2.2e-16\n",
      "\n",
      "[1] \"geneC\"\n",
      "\n",
      "\tShapiro-Wilk normality test\n",
      "\n",
      "data:  df[[i]]\n",
      "W = 0.96981, p-value = 1.474e-13\n",
      "\n"
     ]
    }
   ],
   "source": [
    "for (i in col){\n",
    "    print(i)\n",
    "    print(shapiro.test(df[[i]]))\n",
    "}"
   ]
  },
  {
   "cell_type": "code",
   "execution_count": 4,
   "metadata": {
    "vscode": {
     "languageId": "r"
    }
   },
   "outputs": [
    {
     "name": "stdout",
     "output_type": "stream",
     "text": [
      "[1] \"geneB\"\n",
      "\n",
      "\tShapiro-Wilk normality test\n",
      "\n",
      "data:  log10(df[[i]])\n",
      "W = NaN, p-value = NA\n",
      "\n",
      "[1] \"geneC\"\n",
      "\n",
      "\tShapiro-Wilk normality test\n",
      "\n",
      "data:  log10(df[[i]])\n",
      "W = 0.90452, p-value < 2.2e-16\n",
      "\n"
     ]
    }
   ],
   "source": [
    "for (i in col){\n",
    "    print(i)\n",
    "    print(shapiro.test(log10(df[[i]])))\n",
    "}"
   ]
  },
  {
   "cell_type": "code",
   "execution_count": 5,
   "metadata": {
    "vscode": {
     "languageId": "r"
    }
   },
   "outputs": [
    {
     "name": "stderr",
     "output_type": "stream",
     "text": [
      "Loading required package: MASS\n",
      "\n",
      "Loading required package: survival\n",
      "\n",
      "\n",
      "Attaching package: ‘EnvStats’\n",
      "\n",
      "\n",
      "The following object is masked from ‘package:MASS’:\n",
      "\n",
      "    boxcox\n",
      "\n",
      "\n",
      "The following objects are masked from ‘package:stats’:\n",
      "\n",
      "    predict, predict.lm\n",
      "\n",
      "\n",
      "The following object is masked from ‘package:base’:\n",
      "\n",
      "    print.default\n",
      "\n",
      "\n"
     ]
    },
    {
     "name": "stdout",
     "output_type": "stream",
     "text": [
      "[1] \"norm\"\n",
      "[1] \"**************************\"\n",
      "[1] \"geneB\"\n",
      "[1] -4067.95\n",
      "[1] \"--------------------------\"\n",
      "[1] \"geneC\"\n",
      "[1] -4200.74\n",
      "[1] \"--------------------------\"\n",
      "[1] \"exp\"\n",
      "[1] \"**************************\"\n",
      "[1] \"geneB\"\n",
      "[1] -3790.429\n",
      "[1] \"--------------------------\"\n",
      "[1] \"geneC\"\n",
      "[1] -5262.947\n",
      "[1] \"--------------------------\"\n"
     ]
    }
   ],
   "source": [
    "library(\"fitdistrplus\")\n",
    "library(\"EnvStats\")\n",
    "test<-c('norm','exp')\n",
    "df_c<-c()\n",
    "for (i in test){\n",
    "    print(i)\n",
    "    print('**************************')\n",
    "\n",
    "    for (j in col){\n",
    "        print(j)\n",
    "        val<-fitdist(df[[j]],i)\n",
    "        print(logLik(val))\n",
    "    print('--------------------------')\n",
    "    \n",
    "    }\n",
    "}"
   ]
  },
  {
   "attachments": {},
   "cell_type": "markdown",
   "metadata": {},
   "source": [
    "by seeing the LogLikelyhood we can see that geneB is more likely to follow expontial distribution where as Gene C is more likely to be from normal distirbution"
   ]
  },
  {
   "cell_type": "code",
   "execution_count": 6,
   "metadata": {
    "vscode": {
     "languageId": "r"
    }
   },
   "outputs": [
    {
     "name": "stderr",
     "output_type": "stream",
     "text": [
      "Warning message in ks.test.default(df$geneC, \"rnorm\"):\n",
      "“ties should not be present for the Kolmogorov-Smirnov test”\n"
     ]
    },
    {
     "data": {
      "text/plain": [
       "\n",
       "\tAsymptotic one-sample Kolmogorov-Smirnov test\n",
       "\n",
       "data:  df$geneC\n",
       "D = 3.1825, p-value < 2.2e-16\n",
       "alternative hypothesis: two-sided\n"
      ]
     },
     "metadata": {},
     "output_type": "display_data"
    }
   ],
   "source": [
    "ks.test(df$geneC,'rnorm')"
   ]
  },
  {
   "attachments": {},
   "cell_type": "markdown",
   "metadata": {},
   "source": [
    "But if we apply shapiro test we can see that it is not normal distribution"
   ]
  }
 ],
 "metadata": {
  "kernelspec": {
   "display_name": "R",
   "language": "R",
   "name": "ir"
  },
  "language_info": {
   "codemirror_mode": "r",
   "file_extension": ".r",
   "mimetype": "text/x-r-source",
   "name": "R",
   "pygments_lexer": "r",
   "version": "4.2.2"
  },
  "orig_nbformat": 4,
  "vscode": {
   "interpreter": {
    "hash": "c7ac6a8ca4de76c1689cc9283753e61b7a5f57e8d600affce03e4a39bc9ce6ae"
   }
  }
 },
 "nbformat": 4,
 "nbformat_minor": 2
}
